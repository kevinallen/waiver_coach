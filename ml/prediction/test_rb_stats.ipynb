{
 "cells": [
  {
   "cell_type": "code",
   "execution_count": 1,
   "metadata": {
    "collapsed": true
   },
   "outputs": [],
   "source": [
    "import nfldb\n",
    "import pandas as pd\n",
    "import numpy as np\n",
    "\n",
    "from ml.feature_extraction.nfldb_feature_extraction import ExtractColumns\n",
    "from ml.feature_extraction.nfldb_feature_extraction import load_feature_set\n",
    "from ml.feature_extraction.nfldb_feature_extraction import prediction_feature_set\n",
    "\n",
    "from ml.helpers.scoring_helpers import make_scorer\n",
    "from ml.helpers.scoring_helpers import score_stats\n",
    "from ml.helpers.testing_helpers import train_test_split_index\n",
    "from ml.helpers.testing_helpers import split_by_year_week\n",
    "\n",
    "from sklearn.ensemble import GradientBoostingRegressor\n",
    "from sklearn.ensemble import GradientBoostingClassifier\n",
    "from sklearn.linear_model import LinearRegression\n",
    "from sklearn.linear_model import LogisticRegression\n",
    "from sklearn.ensemble import RandomForestRegressor\n",
    "from sklearn.ensemble import RandomForestClassifier\n",
    "from sklearn.neighbors import NearestNeighbors\n",
    "from sklearn.neighbors import KernelDensity\n",
    "from sklearn.metrics import mean_squared_error, mean_absolute_error\n",
    "from sklearn.pipeline import Pipeline\n",
    "from sklearn.pipeline import FeatureUnion"
   ]
  },
  {
   "cell_type": "code",
   "execution_count": 2,
   "metadata": {
    "collapsed": true
   },
   "outputs": [],
   "source": [
    "db = nfldb.connect()\n",
    "result_path='../results'\n",
    "full_train, pipe, stats = load_feature_set(db)\n",
    "\n",
    "# picks columns to model\n",
    "lag_cols = [stat + '_lag' for stat in stats]\n",
    "mean_cols = [stat + '_mean' for stat in stats]\n",
    "other_cols = ['same_year_lag', 'played_lag']\n",
    "\n",
    "infoColumns = ExtractColumns(like=[], exact=['year','week','time','player_id','full_name'])\n",
    "row_info = infoColumns.fit_transform(X=full_train)"
   ]
  },
  {
   "cell_type": "code",
   "execution_count": 3,
   "metadata": {
    "collapsed": true
   },
   "outputs": [],
   "source": [
    "pred_data, predict_i, pred_info, pred_yr_wk = prediction_feature_set(db, pipe, infoColumns)"
   ]
  },
  {
   "cell_type": "code",
   "execution_count": 45,
   "metadata": {
    "collapsed": false
   },
   "outputs": [],
   "source": [
    "X_all = full_train\n",
    "pred_all = pred_data.iloc[predict_i]\n",
    "pred_results = pred_info.iloc[predict_i]\n",
    "\n",
    "# which rows did players play\n",
    "played_bool = full_train['played'] == 1\n",
    "played_index = [i for i in range(X_all.shape[0]) if played_bool[i]]\n",
    "\n",
    "# random split train and test\n",
    "train_index, test_index = train_test_split_index(X_all.shape[0], test_size=0.1, seed=0)\n",
    "\n",
    "feature_cols = lag_cols + mean_cols + other_cols\n",
    "XColumns = ExtractColumns(like=feature_cols)\n",
    "X = XColumns.fit_transform(X=X_all)\n",
    "X_pred = XColumns.fit_transform(X=pred_all)\n",
    "\n",
    "played_only = True\n"
   ]
  },
  {
   "cell_type": "code",
   "execution_count": 41,
   "metadata": {
    "collapsed": true
   },
   "outputs": [],
   "source": [
    "def fit_predict(model, X_train, y_train, X_test = None, y_test = None, predict_proba = False):\n",
    "    model = model.fit(X_train, y_train)\n",
    "    return_obj = (model,)\n",
    "    if X_test is not None:\n",
    "        if predict_proba:\n",
    "            pred_test = model.predict_proba(X_test)\n",
    "        else:\n",
    "            pred_test = model.predict(X_test)\n",
    "\n",
    "        return_obj += (pred_test,)\n",
    "        \n",
    "        if y_test is not None:\n",
    "            rmse = mean_squared_error(y_test, pred_test)**0.5\n",
    "            mae = mean_absolute_error(y_test, pred_test)\n",
    "            \n",
    "            return_obj += ({'rmse':rmse, 'mae':mae},)\n",
    "    \n",
    "    return(return_obj)"
   ]
  },
  {
   "cell_type": "code",
   "execution_count": 78,
   "metadata": {
    "collapsed": false
   },
   "outputs": [
    {
     "name": "stdout",
     "output_type": "stream",
     "text": [
      "Predicting receiving_yds\n",
      "Gradient Boosting: RMSE 17.61 | MAE 12.30\n",
      "Random Forest: RMSE 18.89 | MAE 13.13\n",
      "Linear Regression: RMSE 17.30 | MAE 12.36\n"
     ]
    }
   ],
   "source": [
    "y_cols = ['receiving_yds']\n",
    "\n",
    "for y_col in y_cols:\n",
    "    \n",
    "    y = X_all[y_col]\n",
    "\n",
    "    if(played_only and y_col != 'played'):\n",
    "        train_i = list(set.intersection(set(train_index), set(played_index)))\n",
    "        test_i = list(set.intersection(set(test_index), set(played_index)))\n",
    "    else:\n",
    "        train_i = train_index\n",
    "        test_i = test_index\n",
    "\n",
    "    X_train = X.iloc[train_i]\n",
    "    y_train = y.iloc[train_i]\n",
    "    X_test = X.iloc[test_i]\n",
    "    y_test = y.iloc[test_i]\n",
    "\n",
    "    ### Test Predictions\n",
    "    \n",
    "    predict_proba = y_col == 'played'\n",
    "    \n",
    "    if(predict_proba):\n",
    "        models = {\n",
    "            'gb':GradientBoostingClassifier(n_estimators=100, learning_rate=0.1),\n",
    "            'rf':RandomForestClassifier(),\n",
    "            'lin':LogisticRegression()\n",
    "        }\n",
    "    else:\n",
    "        models = {\n",
    "            'gb':GradientBoostingRegressor(n_estimators=100, learning_rate=0.1),\n",
    "            'rf':RandomForestRegressor(),\n",
    "            'lin':LinearRegression()\n",
    "        }\n",
    "        \n",
    "    gb, gb_test, gb_scores = fit_predict(\n",
    "        model=models['gb'],\n",
    "        X_train=X_train,\n",
    "        y_train=y_train,\n",
    "        X_test=X_test,\n",
    "        y_test=y_test,\n",
    "        predict_proba=predict_proba)\n",
    "    \n",
    "    rf, rf_test, rf_scores = fit_predict(\n",
    "        model=models['rf'],\n",
    "        X_train=X_train,\n",
    "        y_train=y_train,\n",
    "        X_test=X_test,\n",
    "        y_test=y_test,\n",
    "        predict_proba=predict_proba)\n",
    "    \n",
    "    lin, lin_test, lin_scores = fit_predict(\n",
    "        model=models['lin'],\n",
    "        X_train=X_train,\n",
    "        y_train=y_train,\n",
    "        X_test=X_test,\n",
    "        y_test=y_test,\n",
    "        predict_proba=predict_proba)\n",
    "\n",
    "    # Print Results\n",
    "    print 'Predicting %s' % (y_col)\n",
    "    print 'Gradient Boosting: RMSE %.2f | MAE %.2f' % (gb_scores['rmse'], gb_scores['mae'])\n",
    "    print 'Random Forest: RMSE %.2f | MAE %.2f' % (rf_scores['rmse'], rf_scores['mae'])\n",
    "    print '%s Regression: RMSE %.2f | MAE %.2f' % ('Logistic' if predict_proba else 'Linear', lin_scores['rmse'], lin_scores['mae'])\n",
    "    # Build full models on all data\n",
    "\n",
    "    gb = gb.fit(X, y)\n",
    "    rf = rf.fit(X, y)\n",
    "    lin = lr.fit(X, y)\n",
    "    #### Next week's predictions\n",
    "    # Make prediction, just gbr for now\n",
    "    \n",
    "    if(y_col == 'played'):\n",
    "        preds = gb.predict_proba(X_pred)[:,1]\n",
    "    else:\n",
    "        preds = gb.predict(X_pred)\n",
    "\n",
    "    pred_results.loc[:,y_col] = preds"
   ]
  },
  {
   "cell_type": "code",
   "execution_count": null,
   "metadata": {
    "collapsed": true
   },
   "outputs": [],
   "source": []
  },
  {
   "cell_type": "code",
   "execution_count": null,
   "metadata": {
    "collapsed": true
   },
   "outputs": [],
   "source": []
  },
  {
   "cell_type": "markdown",
   "metadata": {},
   "source": [
    "# Playing around with Ensembling"
   ]
  },
  {
   "cell_type": "code",
   "execution_count": 66,
   "metadata": {
    "collapsed": true
   },
   "outputs": [],
   "source": [
    "class PredictionFeature(TransformerMixin):\n",
    "    def __init__(self, model, predict_proba=False):\n",
    "        self.model = model\n",
    "        self.predict_proba = predict_proba\n",
    "    def fit(self, X, y):\n",
    "        self.model.fit(X, y)\n",
    "        return self\n",
    "    def transform(self, X):\n",
    "        if(self.predict_proba):\n",
    "            pred = self.model.predict_proba(X)\n",
    "        else:\n",
    "            pred = self.model.predict(X)\n",
    "        return np.expand_dims(pred, 1)\n",
    "    def get_params(self, deep=True):\n",
    "        return {}\n",
    "    def set_params(self, **parameters):\n",
    "        for parameter, value in parameters.items():\n",
    "            setattr(self, parameter, value)\n",
    "        return self\n"
   ]
  },
  {
   "cell_type": "code",
   "execution_count": 125,
   "metadata": {
    "collapsed": false
   },
   "outputs": [],
   "source": [
    "import copy\n",
    "\n",
    "models['en'] = Pipeline([\n",
    "        ('models', FeatureUnion([\n",
    "                        ('gb',PredictionFeature(copy.deepcopy(models['gb']), predict_proba=predict_proba)),\n",
    "                        ('rf',PredictionFeature(copy.deepcopy(models['rf']), predict_proba=predict_proba)),\n",
    "                        ('lin',PredictionFeature(copy.deepcopy(models['lin']), predict_proba=predict_proba))\n",
    "                    ])),\n",
    "        ('pred', GradientBoostingRegressor(n_estimators=1000, learning_rate=0.01, loss='lad', max_depth=5, min_samples_leaf=10))\n",
    "            ])\n",
    "\n",
    "en, en_test, en_scores = fit_predict(\n",
    "        model=models['en'],\n",
    "        X_train=X_train,\n",
    "        y_train=y_train,\n",
    "        X_test=X_test,\n",
    "        y_test=y_test,\n",
    "        predict_proba=predict_proba)"
   ]
  },
  {
   "cell_type": "code",
   "execution_count": 126,
   "metadata": {
    "collapsed": false
   },
   "outputs": [
    {
     "data": {
      "text/plain": [
       "{'mae': 14.257369448787047, 'rmse': 20.877766389819243}"
      ]
     },
     "execution_count": 126,
     "metadata": {},
     "output_type": "execute_result"
    }
   ],
   "source": [
    "en_scores"
   ]
  },
  {
   "cell_type": "code",
   "execution_count": null,
   "metadata": {
    "collapsed": true
   },
   "outputs": [],
   "source": []
  }
 ],
 "metadata": {
  "kernelspec": {
   "display_name": "Python 2",
   "language": "python",
   "name": "python2"
  },
  "language_info": {
   "codemirror_mode": {
    "name": "ipython",
    "version": 2
   },
   "file_extension": ".py",
   "mimetype": "text/x-python",
   "name": "python",
   "nbconvert_exporter": "python",
   "pygments_lexer": "ipython2",
   "version": "2.7.8"
  }
 },
 "nbformat": 4,
 "nbformat_minor": 0
}
