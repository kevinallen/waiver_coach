{
 "cells": [
  {
   "cell_type": "code",
   "execution_count": 1,
   "metadata": {
    "collapsed": true
   },
   "outputs": [],
   "source": [
    "%matplotlib inline\n",
    "import nfldb\n",
    "import pandas as pd\n",
    "import numpy as np\n",
    "import matplotlib.mlab as mlab\n",
    "import matplotlib.pyplot as plt\n",
    "\n",
    "from ml.feature_extraction.nfldb_feature_extraction import ExtractColumns\n",
    "from ml.feature_extraction.nfldb_feature_extraction import load_feature_set\n",
    "from ml.feature_extraction.nfldb_feature_extraction import prediction_feature_set\n",
    "\n",
    "from ml.helpers.scoring_helpers import make_scorer\n",
    "from ml.helpers.scoring_helpers import score_stats\n",
    "from ml.helpers.testing_helpers import train_test_split_index\n",
    "from ml.helpers.testing_helpers import split_by_year_week\n",
    "\n",
    "from sklearn.ensemble import GradientBoostingRegressor\n",
    "from sklearn.ensemble import GradientBoostingClassifier\n",
    "from sklearn.linear_model import LinearRegression\n",
    "from sklearn.linear_model import LogisticRegression\n",
    "from sklearn.ensemble import RandomForestRegressor\n",
    "from sklearn.ensemble import RandomForestClassifier\n",
    "from sklearn.neighbors import NearestNeighbors\n",
    "from sklearn.neighbors import KernelDensity\n",
    "from sklearn.metrics import mean_squared_error, mean_absolute_error\n",
    "from sklearn.pipeline import Pipeline\n",
    "from sklearn.pipeline import FeatureUnion\n"
   ]
  },
  {
   "cell_type": "code",
   "execution_count": 2,
   "metadata": {
    "collapsed": true
   },
   "outputs": [],
   "source": [
    "def plot_knn(nn_df, plot_stat, n_bins=2, bandwidth=2.5, result_path='../results/knn'):\n",
    "    # the histogram of the data\n",
    "    stat_X = nn_df.iloc[1:][plot_stat]\n",
    "    player_name = nn_df.iloc[0]['full_name']\n",
    "    n, bins, patches = plt.hist(stat_X, n_bins, normed=1, edgecolor='none', facecolor='grey', alpha=0.25)\n",
    "\n",
    "    # get plot limits\n",
    "    xmin = 0\n",
    "    xmax = max(bins)*1.1\n",
    "    ymin = 0\n",
    "    ymax = max(n)*1.1\n",
    "\n",
    "    # get bins for kernel density plot\n",
    "    bins = np.linspace(xmin, xmax, 100)\n",
    "\n",
    "    # set up kernel density\n",
    "    kde = KernelDensity(kernel='gaussian', bandwidth=bandwidth).fit(X=stat_X[:,np.newaxis])\n",
    "    y_smooth = np.exp(kde.score_samples(bins[:,np.newaxis]))\n",
    "    y_smooth\n",
    "\n",
    "    l = plt.plot(bins, y_smooth, 'b--', linewidth=1)\n",
    "    plt.xlabel(plot_stat)\n",
    "    plt.ylabel('Probability')\n",
    "    plt.axis([0, max(bins)*1.1, 0, max(n)*1.1])\n",
    "    plt.title(player_name)\n",
    "    plt.grid(True)\n",
    "\n",
    "    save_path = '/'.join([result_path, '_'.join([player_name.replace(' ',''), str(pred_yr_wk[0]), str(pred_yr_wk[1]), plot_stat])]) + '.png'\n",
    "\n",
    "    plt.savefig(save_path)\n",
    "    plt.close()"
   ]
  },
  {
   "cell_type": "code",
   "execution_count": 3,
   "metadata": {
    "collapsed": false
   },
   "outputs": [],
   "source": [
    "db = nfldb.connect()\n",
    "result_path='../results'\n",
    "full_train, pipe, stats = load_feature_set(db)\n",
    "\n",
    "# picks columns to model\n",
    "lag_cols = [stat + '_lag' for stat in stats]\n",
    "mean_cols = [stat + '_mean' for stat in stats]\n",
    "other_cols = ['same_year_lag', 'played_lag']\n",
    "\n",
    "infoColumns = ExtractColumns(like=[], exact=['year','week','time','player_id','full_name'])\n",
    "row_info = infoColumns.fit_transform(X=full_train)"
   ]
  },
  {
   "cell_type": "code",
   "execution_count": 4,
   "metadata": {
    "collapsed": false
   },
   "outputs": [],
   "source": [
    "pred_data, predict_i, pred_info, pred_yr_wk = prediction_feature_set(db, pipe, infoColumns)"
   ]
  },
  {
   "cell_type": "code",
   "execution_count": 5,
   "metadata": {
    "collapsed": false
   },
   "outputs": [],
   "source": [
    "X_all = full_train\n",
    "pred_all = pred_data.iloc[predict_i]\n",
    "\n",
    "# which rows did players play\n",
    "played_bool = full_train['played'] == 1\n",
    "played_index = [i for i in range(X_all.shape[0]) if played_bool[i]]\n",
    "\n",
    "# random split train and test\n",
    "train_index, test_index = train_test_split_index(X_all.shape[0], test_size=0.1, seed=0)\n",
    "\n",
    "feature_cols = lag_cols + mean_cols + other_cols\n",
    "XColumns = ExtractColumns(like=feature_cols)\n",
    "X = XColumns.fit_transform(X=X_all)\n",
    "X_pred = XColumns.fit_transform(X=pred_all)\n",
    "\n",
    "played_only = True\n"
   ]
  },
  {
   "cell_type": "code",
   "execution_count": 6,
   "metadata": {
    "collapsed": true
   },
   "outputs": [],
   "source": [
    "### this is not needed for KNN but may be useful for reforming stat prediction\n",
    "y_col = 'receiving_yds'\n",
    "\n",
    "y = X_all[y_col]\n",
    "\n",
    "if(played_only and y_col != 'played'):\n",
    "    train_i = list(set.intersection(set(train_index), set(played_index)))\n",
    "    test_i = list(set.intersection(set(test_index), set(played_index)))\n",
    "else:\n",
    "    train_i = train_index\n",
    "    test_i = test_index\n",
    "\n",
    "X_train = X.iloc[train_i]\n",
    "y_train = y.iloc[train_i]\n",
    "X_test = X.iloc[test_i]\n",
    "y_test = y.iloc[test_i]"
   ]
  },
  {
   "cell_type": "code",
   "execution_count": 11,
   "metadata": {
    "collapsed": true
   },
   "outputs": [],
   "source": [
    "# fit k nearest neighbors\n",
    "k = 100\n",
    "played_only = True\n",
    "i_knn = played_index if played_only else range(X.shape[0])\n",
    "    \n",
    "nn = NearestNeighbors(n_neighbors=k).fit(X.iloc[i_knn])\n",
    "\n",
    "# returns tuple of (distances, indices of neighbors)\n",
    "# for prediction set\n",
    "distance, neighbor = nn.kneighbors(X=X_pred)"
   ]
  },
  {
   "cell_type": "code",
   "execution_count": 12,
   "metadata": {
    "collapsed": false
   },
   "outputs": [],
   "source": [
    "for check_i in range(pred_all.shape[0]):\n",
    "    # check neighbors\n",
    "    # check_nn is a data frame where the first row is the player\n",
    "    # and the rest of the rows are the nearest neighbors\n",
    "    check_nn = pred_all.iloc[[check_i],:].append(X_all.iloc[i_knn].iloc[neighbor[check_i,:]])\n",
    "    check_nn['StandardPoints'] = score_stats(check_nn, make_scorer(base_type='standard'))\n",
    "    check_nn['PPRPoints'] = score_stats(check_nn, make_scorer(base_type='ppr'))\n",
    "    \n",
    "    plot_knn(check_nn, plot_stat='StandardPoints', n_bins=25, bandwidth=2.5)\n",
    "    #check_nn"
   ]
  },
  {
   "cell_type": "code",
   "execution_count": null,
   "metadata": {
    "collapsed": true
   },
   "outputs": [],
   "source": []
  }
 ],
 "metadata": {
  "kernelspec": {
   "display_name": "Python 2",
   "language": "python",
   "name": "python2"
  },
  "language_info": {
   "codemirror_mode": {
    "name": "ipython",
    "version": 2
   },
   "file_extension": ".py",
   "mimetype": "text/x-python",
   "name": "python",
   "nbconvert_exporter": "python",
   "pygments_lexer": "ipython2",
   "version": "2.7.8"
  }
 },
 "nbformat": 4,
 "nbformat_minor": 0
}
